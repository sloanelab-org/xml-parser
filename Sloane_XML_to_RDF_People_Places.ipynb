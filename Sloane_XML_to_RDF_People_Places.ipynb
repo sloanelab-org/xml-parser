{
 "cells": [
  {
   "cell_type": "markdown",
   "id": "8d7d2354",
   "metadata": {},
   "source": [
    "# Sloane Lab XML Parser"
   ]
  },
  {
   "cell_type": "markdown",
   "id": "95cbfbaf",
   "metadata": {},
   "source": [
    "This notebook parses the TEI XML files from the Enlightenment Architectures project, extracts the data that we want to import into the Sloane Lab knowledge base, and checks if there are any errors or inconsistencies."
   ]
  },
  {
   "cell_type": "markdown",
   "id": "730cb5ce",
   "metadata": {},
   "source": [
    "#### Import libraries"
   ]
  },
  {
   "cell_type": "code",
   "execution_count": 1,
   "id": "60b5b80b",
   "metadata": {},
   "outputs": [],
   "source": [
    "# -*- coding: future_fstrings -*-\n",
    "import os\n",
    "import re\n",
    "import sys\n",
    "import urllib\n",
    "import pandas as pd\n",
    "\n",
    "import rdflib\n",
    "from rdflib import Namespace, URIRef, BNode, Literal\n",
    "from rdflib.namespace import RDF, RDFS, OWL, XSD\n",
    "\n",
    "from viapy import api\n",
    "from bs4 import BeautifulSoup as Soup\n",
    "from mapboxgl.utils import *\n",
    "from mapboxgl.viz import *\n",
    "\n",
    "from matplotlib import *\n",
    "import matplotlib.pyplot as plt\n",
    "%matplotlib inline"
   ]
  },
  {
   "cell_type": "markdown",
   "id": "a51c7af0",
   "metadata": {},
   "source": [
    "#### XML File path"
   ]
  },
  {
   "cell_type": "code",
   "execution_count": 2,
   "id": "58ee82b5",
   "metadata": {},
   "outputs": [],
   "source": [
    "# XML file path\n",
    "XML_PATH = 'data/miscellanea.xml'"
   ]
  },
  {
   "cell_type": "markdown",
   "id": "1326ae61",
   "metadata": {},
   "source": [
    "#### Function to handle catalogue numbers"
   ]
  },
  {
   "cell_type": "code",
   "execution_count": 3,
   "id": "f3b96629",
   "metadata": {},
   "outputs": [],
   "source": [
    "# Function to transform the catalogue number to an integer\n",
    "def cat_to_int(catnum):\n",
    "    catnum = re.search('\\d+', catnum)\n",
    "    if catnum:\n",
    "        return int(catnum.group(0))\n",
    "    return None"
   ]
  },
  {
   "cell_type": "markdown",
   "id": "6ba9e269",
   "metadata": {},
   "source": [
    "#### Load all catalogues and their entries"
   ]
  },
  {
   "cell_type": "code",
   "execution_count": 4,
   "id": "cfd11f22",
   "metadata": {},
   "outputs": [
    {
     "name": "stdout",
     "output_type": "stream",
     "text": [
      "<place xml:id=\"Eichstadt\">\n",
      "<placename>Eichstadt</placename>\n",
      "<idno type=\"viaf\">124967002</idno>\n",
      "<idno type=\"geo\"> 124967002</idno>\n",
      "</place>\n",
      "<place xml:id=\"Hispaniola\">\n",
      "<placename>Hispaniola</placename>\n",
      "<placename>wreck on the coast of Espanola</placename>\n",
      "<idno type=\"viaf\">242111207</idno>\n",
      "<idno type=\"geo\"> failed</idno>\n",
      "</place>\n",
      "<place xml:id=\"Katzenelnbogen\">\n",
      "<placename>Country of Catzellenbogen &amp; belonging to the Landgrave of Hesse cassell,\n",
      "              northward of Mayence</placename>\n",
      "<idno type=\"viaf\">129154192</idno>\n",
      "<idno type=\"geo\"> 50.26745,†7.97322</idno>\n",
      "</place>\n",
      "<place xml:id=\"Lapland\">\n",
      "<placename>Lapland</placename>\n",
      "<idno type=\"viaf\">140666509 </idno>\n",
      "<idno type=\"geo\"> 67.616229 26.761877</idno>\n",
      "</place>\n",
      "<place xml:id=\"Manila\">\n",
      "<placename>Maniglia in the East Indies </placename>\n",
      "<idno type=\"viaf\">128902416</idno>\n",
      "<idno type=\"geo\"> 14.6042,†120.9822</idno>\n",
      "</place>\n",
      "<place xml:id=\"Melo_Island\">\n",
      "<placename>Melo Island</placename>\n",
      "<idno type=\"geo\"> 11.03333,†-15.21667</idno>\n",
      "</place>\n",
      "<place xml:id=\"New_England\">\n",
      "<placename>New England</placename>\n",
      "<placename>N England</placename>\n",
      "<idno type=\"geo\"> 44,†-71</idno>\n",
      "</place>\n",
      "<place xml:id=\"River_Craven\">\n",
      "<placename>river above Ingleton in Craven</placename>\n",
      "<idno type=\"viaf\">138642187</idno>\n",
      "<idno type=\"geo\"> 54.15392,†-2.46849</idno>\n",
      "</place>\n",
      "<place xml:id=\"Santa_Maria_Campeche\">\n",
      "<placename>Sta Maria near Campeche</placename>\n",
      "<idno type=\"viaf\">136049224</idno>\n",
      "<idno type=\"geo\"> 18.83333,†-90.25</idno>\n",
      "</place>\n",
      "<place xml:id=\"Surentum\">\n",
      "<placename>Surentum</placename>\n",
      "<idno type=\"viaf\">154773300</idno>\n",
      "<idno type=\"geo\"> 47.51,†6.8</idno>\n",
      "</place>\n",
      "<place xml:id=\"Wolfenbuettel\">\n",
      "<placename>Asse in Wolfembatle</placename>\n",
      "<placename>Wolfem =butle</placename>\n",
      "<idno type=\"viaf\">140714405</idno>\n",
      "<idno type=\"geo\"> 52.16442,†10.54095</idno>\n",
      "</place>\n"
     ]
    }
   ],
   "source": [
    "# Open the XML file\n",
    "with open(XML_PATH) as xml_file:\n",
    "\n",
    "    # Read the file\n",
    "    xml = xml_file.read()\n",
    "    \n",
    "    # Parse the file\n",
    "    parsed_xml = Soup(xml, 'lxml')\n",
    "    \n",
    "    # Create empty list of people\n",
    "    people_list = []\n",
    "    \n",
    "    # Create empty list of places\n",
    "    place_list = []\n",
    "    \n",
    "    # For each person in the XML list...\n",
    "    for person in parsed_xml.find('listperson').find_all('person'):\n",
    "\n",
    "        # Create dictionary with person's internal ID\n",
    "        person_dict = {'id': person['xml:id']}\n",
    "        \n",
    "        # Find the person's external IDs\n",
    "        person_ids = person.find_all('idno')\n",
    "        \n",
    "        # For each external ID...\n",
    "        for person_id in person_ids:\n",
    "\n",
    "            # If the type of ID is VIAF...\n",
    "            if person_id['type'] == 'viaf':\n",
    "                \n",
    "                # Add VIAF ID to person dictionary\n",
    "                person_dict['viaf'] = person_id.text \n",
    " \n",
    "            # Otherwise, print person\n",
    "            else:\n",
    "                print(person)\n",
    " \n",
    "        person_dict['names'] = [x.text for x in person.find_all('persname')]\n",
    "\n",
    "        # Add the dictionary to the list\n",
    "        people_list.append(person_dict)\n",
    "    \n",
    "    # For each place in the XML list...\n",
    "    for place in parsed_xml.find('listplace').find_all('place'):\n",
    "        \n",
    "        # Create dictionary with place's internal ID\n",
    "        place_dict = {'id': place['xml:id']}\n",
    "\n",
    "        # Find the person's external IDs\n",
    "        place_ids = place.find_all('idno')\n",
    "        \n",
    "        # For each external ID...\n",
    "        for place_id in place_ids:\n",
    "            \n",
    "            # If the type of ID is VIAF...\n",
    "            if place_id['type'] == 'viaf':\n",
    "            \n",
    "                # Add VIAF ID to place dictionary\n",
    "                place_dict['viaf'] = place_id.text\n",
    "\n",
    "            # If the type of ID is GEO...\n",
    "            elif place_id['type'] == 'geo':\n",
    "                \n",
    "                try:\n",
    "                    # Extract latitude and longitude\n",
    "                    lat, lon = place_id.text.split(',')\n",
    "                \n",
    "                    # Add latitude to place dictionary\n",
    "                    place_dict['lat'] = float(lat.strip())\n",
    "                \n",
    "                    # Add longitude to place dictionary\n",
    "                    place_dict['lon'] = float(lon.strip())\n",
    "                except:\n",
    "                    print(place)\n",
    "                \n",
    "            # Otherwise, print place\n",
    "            else:\n",
    "                print(place)\n",
    "        \n",
    "        place_dict['names'] = [x.text for x in place.find_all('placename')]\n",
    "            \n",
    "        # Add the dictionary to the list\n",
    "        place_list.append(place_dict)\n",
    "\n",
    "# Open the JSON file\n",
    "#with open(\"out/people.json\", \"w\") as people_file:\n",
    "#    json.dump(people_list, people_file)\n",
    "\n",
    "# Open the JSON file\n",
    "#with open(\"out/places.json\", \"w\") as places_file:\n",
    "#    json.dump(place_list, places_file)"
   ]
  },
  {
   "cell_type": "code",
   "execution_count": 5,
   "id": "5b313a30",
   "metadata": {},
   "outputs": [
    {
     "name": "stdout",
     "output_type": "stream",
     "text": [
      "9\n"
     ]
    }
   ],
   "source": [
    "# List of catalogues\n",
    "cats = []\n",
    "\n",
    "# Open the XML file\n",
    "with open(XML_PATH) as xml_file:\n",
    "\n",
    "    # Find all catalogues in the manuscript\n",
    "    catalogues = parsed_xml.find_all('div2')\n",
    "    \n",
    "    print(len(catalogues))\n",
    "    \n",
    "    prevDict = {}\n",
    "    \n",
    "    pageNum = \"NHM-UK_L_433034_001a\"\n",
    "    prevPageNum = None\n",
    "    prevParent = None\n",
    "    force = False\n",
    "    \n",
    "    # For each catalogue...\n",
    "    for catalogue in catalogues:\n",
    "        \n",
    "        # Create catalogue dictionary\n",
    "        cat_dict = {}\n",
    "        \n",
    "        # Create list of entries\n",
    "        cat_dict['entries'] = []\n",
    "        \n",
    "        # Get catalogue title\n",
    "        cat_dict['title'] = catalogue.find('label').text\n",
    "        \n",
    "        # Find all entries in the catalogue\n",
    "        entries = catalogue.find_all('div3')\n",
    "    \n",
    "        # For each entry...\n",
    "        for entry in entries:\n",
    "            \n",
    "            # Get number of entry\n",
    "            catnum = entry.find('ea:catnum').get_text() if entry.find('ea:catnum') else None\n",
    "            \n",
    "            # Get people\n",
    "            people = entry.find_all('persname')\n",
    "            \n",
    "            # Get places\n",
    "            places = entry.find_all('placename')\n",
    "            \n",
    "            # Create entry dictionary\n",
    "            entry_dict = {\n",
    "                'num_str': ' '.join(catnum.split()) if catnum else None,\n",
    "                'num_int': cat_to_int(catnum) if catnum else None,\n",
    "                'text': ' '.join(entry.text.split()),\n",
    "                'people': [{'id': x['ref'].strip('#') if 'ref' in x.attrs else None, 'name': ' '.join(x.text.split())} for x in people] if people else None,\n",
    "                'places': [{'id': x['ref'].strip('#') if 'ref' in x.attrs else None, 'name': ' '.join(x.text.split())} for x in places] if places else None\n",
    "            }\n",
    "        \n",
    "            # Append entry to entry list\n",
    "            cat_dict['entries'].append(entry_dict)\n",
    "        \n",
    "        # Append catalogue to catalogue list\n",
    "        cats.append(cat_dict)"
   ]
  },
  {
   "cell_type": "markdown",
   "id": "d97129ee",
   "metadata": {},
   "source": [
    "#### How many people in the list?"
   ]
  },
  {
   "cell_type": "code",
   "execution_count": 6,
   "id": "8b5d9f2c",
   "metadata": {},
   "outputs": [
    {
     "data": {
      "text/plain": [
       "2799"
      ]
     },
     "execution_count": 6,
     "metadata": {},
     "output_type": "execute_result"
    }
   ],
   "source": [
    "len(people_list)"
   ]
  },
  {
   "cell_type": "markdown",
   "id": "ac31bc40",
   "metadata": {},
   "source": [
    "#### How many places in the list?"
   ]
  },
  {
   "cell_type": "code",
   "execution_count": 7,
   "id": "65ed76f6",
   "metadata": {},
   "outputs": [
    {
     "data": {
      "text/plain": [
       "555"
      ]
     },
     "execution_count": 7,
     "metadata": {},
     "output_type": "execute_result"
    }
   ],
   "source": [
    "len(place_list)"
   ]
  },
  {
   "cell_type": "markdown",
   "id": "b050c728",
   "metadata": {},
   "source": [
    "#### How many catalogues?"
   ]
  },
  {
   "cell_type": "markdown",
   "id": "e045e2eb",
   "metadata": {},
   "source": [
    "#### Declare prefixes and create graph"
   ]
  },
  {
   "cell_type": "code",
   "execution_count": 8,
   "id": "9aa0d60f",
   "metadata": {},
   "outputs": [],
   "source": [
    "# Create namespaces\n",
    "slb=Namespace(\"http://sloanelab.org/\");\n",
    "ecrm=Namespace(\"http://erlangen-crm.org/current/\");\n",
    "crmdig=Namespace(\"http://www.ics.forth.gr/isl/CRMdig/\");\n",
    "viaf=Namespace(\"https://viaf.org/viaf/\");\n",
    "\n",
    "# Create graph\n",
    "graph = rdflib.Graph()\n",
    "\n",
    "# Bind prefixes\n",
    "graph.bind(\"slb\", slb)\n",
    "graph.bind(\"ecrm\", ecrm)\n",
    "graph.bind(\"crmdig\", crmdig)"
   ]
  },
  {
   "cell_type": "markdown",
   "id": "d42fe119",
   "metadata": {},
   "source": [
    "#### Add all people to the graph"
   ]
  },
  {
   "cell_type": "code",
   "execution_count": 9,
   "id": "b1b5443f",
   "metadata": {},
   "outputs": [],
   "source": [
    "# For each person in main people list...\n",
    "for person in people_list:\n",
    "\n",
    "    # Create person IRI\n",
    "    personIRI = slb[f'E21/{person[\"id\"].strip().replace(\" \", \"_\")}'];\n",
    "    \n",
    "    # Add person to graph\n",
    "    graph.add((personIRI, RDF.type, ecrm.E21_Person))\n",
    "    \n",
    "    # Add label to person\n",
    "    graph.add((personIRI, RDFS.label, Literal(person[\"names\"][0] if person[\"names\"] else '')))\n",
    "    \n",
    "    # Add VIAF link\n",
    "    if 'viaf' in person and person[\"viaf\"]:\n",
    "        graph.add((personIRI, OWL.sameAs, viaf[person[\"viaf\"].strip()]))"
   ]
  },
  {
   "cell_type": "markdown",
   "id": "f0b3455f",
   "metadata": {},
   "source": [
    "#### Add all places to the graph"
   ]
  },
  {
   "cell_type": "code",
   "execution_count": 11,
   "id": "b091c9ce",
   "metadata": {},
   "outputs": [],
   "source": [
    "# For each place in main people list...\n",
    "for place in place_list:\n",
    "\n",
    "    # Create place IRI\n",
    "    placeIRI = slb[f'E53/{place[\"id\"].replace(\" \", \"_\")}'];\n",
    "    \n",
    "    # Add place to graph\n",
    "    graph.add((placeIRI, RDF.type, ecrm.E53_Place))\n",
    "    \n",
    "    # Add label to place\n",
    "    graph.add((placeIRI, RDFS.label, Literal(place[\"names\"][0] if place[\"names\"] else '')))\n",
    "    \n",
    "    # Add VIAF link\n",
    "    if 'viaf' in place and place[\"viaf\"]:\n",
    "        graph.add((placeIRI, OWL.sameAs, viaf[place[\"viaf\"].strip()]))"
   ]
  },
  {
   "cell_type": "code",
   "execution_count": 12,
   "id": "3284730f",
   "metadata": {},
   "outputs": [
    {
     "name": "stdout",
     "output_type": "stream",
     "text": [
      "8908\n"
     ]
    }
   ],
   "source": [
    "print(len(graph))"
   ]
  },
  {
   "cell_type": "code",
   "execution_count": 13,
   "id": "0440e235",
   "metadata": {},
   "outputs": [],
   "source": [
    "graph.serialize(destination='/Users/danielemetilli/Downloads/sloane-people-places.ttl', format=\"turtle\");"
   ]
  },
  {
   "cell_type": "code",
   "execution_count": null,
   "id": "3de28c14",
   "metadata": {},
   "outputs": [],
   "source": []
  }
 ],
 "metadata": {
  "kernelspec": {
   "display_name": "Python 3 (ipykernel)",
   "language": "python",
   "name": "python3"
  },
  "language_info": {
   "codemirror_mode": {
    "name": "ipython",
    "version": 3
   },
   "file_extension": ".py",
   "mimetype": "text/x-python",
   "name": "python",
   "nbconvert_exporter": "python",
   "pygments_lexer": "ipython3",
   "version": "3.9.13"
  }
 },
 "nbformat": 4,
 "nbformat_minor": 5
}
