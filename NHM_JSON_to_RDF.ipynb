{
 "cells": [
  {
   "cell_type": "markdown",
   "id": "8d7d2354",
   "metadata": {},
   "source": [
    "# Sloane Lab XML Parser"
   ]
  },
  {
   "cell_type": "markdown",
   "id": "95cbfbaf",
   "metadata": {},
   "source": [
    "This notebook parses the TEI XML files from the Enlightenment Architectures project, extracts the data that we want to import into the Sloane Lab knowledge base, and checks if there are any errors or inconsistencies."
   ]
  },
  {
   "cell_type": "markdown",
   "id": "730cb5ce",
   "metadata": {},
   "source": [
    "#### Import libraries"
   ]
  },
  {
   "cell_type": "code",
   "execution_count": 1,
   "id": "60b5b80b",
   "metadata": {},
   "outputs": [],
   "source": [
    "# -*- coding: future_fstrings -*-\n",
    "import os\n",
    "import re\n",
    "import sys\n",
    "import urllib\n",
    "import titlecase\n",
    "import pandas as pd\n",
    "\n",
    "import rdflib\n",
    "from rdflib import Namespace, URIRef, BNode, Literal\n",
    "from rdflib.namespace import RDF, RDFS, OWL, XSD\n",
    "\n",
    "from viapy import api\n",
    "from bs4 import BeautifulSoup as Soup\n",
    "from mapboxgl.utils import *\n",
    "from mapboxgl.viz import *\n",
    "\n",
    "from matplotlib import *\n",
    "import matplotlib.pyplot as plt\n",
    "%matplotlib inline"
   ]
  },
  {
   "cell_type": "markdown",
   "id": "a51c7af0",
   "metadata": {},
   "source": [
    "#### XML File path"
   ]
  },
  {
   "cell_type": "code",
   "execution_count": 2,
   "id": "58ee82b5",
   "metadata": {},
   "outputs": [],
   "source": [
    "# XML file path\n",
    "JSON_PATH = 'data/nhm_sample.json'"
   ]
  },
  {
   "cell_type": "markdown",
   "id": "6ba9e269",
   "metadata": {},
   "source": [
    "#### Load JSON"
   ]
  },
  {
   "cell_type": "code",
   "execution_count": 3,
   "id": "cfd11f22",
   "metadata": {},
   "outputs": [
    {
     "data": {
      "text/plain": [
       "{'_id': 2683119,\n",
       " 'associatedMedia': [{'_id': 113912,\n",
       "   'assetID': 'e4321b2a-ac54-4fa1-94b7-448524093cea',\n",
       "   'category': 'Specimen',\n",
       "   'created': 1361890143000,\n",
       "   'creator': 'Consuelo Sendino',\n",
       "   'identifier': 'https://data.nhm.ac.uk/media/e4321b2a-ac54-4fa1-94b7-448524093cea',\n",
       "   'license': 'http://creativecommons.org/licenses/by/4.0/',\n",
       "   'mime': 'tiff',\n",
       "   'modified': 1455021799000,\n",
       "   'rightsHolder': 'The Trustees of the Natural History Museum, London',\n",
       "   'title': 'P 73123. Carcharodon megalodon.',\n",
       "   'type': 'StillImage'}],\n",
       " 'associatedMediaCount': 1,\n",
       " 'basisOfRecord': 'FossilSpecimen',\n",
       " 'catalogNumber': 'PV P 73123',\n",
       " 'catalogueDescription': 'tooth',\n",
       " 'chronostratigraphy': 'Neogene, Miocene',\n",
       " 'class': 'Elasmobranchii',\n",
       " 'collectionCode': 'PAL',\n",
       " 'continent': 'Europe',\n",
       " 'country': 'Malta',\n",
       " 'created': 1361276348000,\n",
       " 'determinationNames': 'Carcharodon megalodon',\n",
       " 'donorName': 'Sir Hans Sloane',\n",
       " 'earliestEonOrLowestEonothem': 'Phanerozoic',\n",
       " 'earliestEpochOrLowestSeries': 'Miocene',\n",
       " 'earliestEraOrLowestErathem': 'Cenozoic',\n",
       " 'earliestPeriodOrLowestSystem': 'Neogene',\n",
       " 'family': 'Otodontidae',\n",
       " 'genus': 'Carcharodon',\n",
       " 'higherClassification': 'Elasmobranchii; Lamniformes; Otodontidae',\n",
       " 'higherGeography': 'Europe; Malta',\n",
       " 'institutionCode': 'NHMUK',\n",
       " 'latestEonOrHighestEonothem': 'Phanerozoic',\n",
       " 'latestEpochOrHighestSeries': 'Miocene',\n",
       " 'latestEraOrHighestErathem': 'Cenozoic',\n",
       " 'latestPeriodOrHighestSystem': 'Neogene',\n",
       " 'modified': 1644490707000,\n",
       " 'occurrenceID': 'f3c823b7-0a9f-4ab3-8581-08aae14d058e',\n",
       " 'occurrenceStatus': 'present',\n",
       " 'order': 'Lamniformes',\n",
       " 'otherCatalogNumbers': 'NHMUK:ecatalogue:2683119',\n",
       " 'scientificName': 'Carcharodon megalodon',\n",
       " 'specificEpithet': 'megalodon',\n",
       " 'subDepartment': 'ES Fish'}"
      ]
     },
     "execution_count": 3,
     "metadata": {},
     "output_type": "execute_result"
    }
   ],
   "source": [
    "# Open the XML file\n",
    "with open(JSON_PATH) as json_file:\n",
    "\n",
    "    # Read the file\n",
    "    data = json.load(json_file)\n",
    "data"
   ]
  },
  {
   "cell_type": "markdown",
   "id": "e045e2eb",
   "metadata": {},
   "source": [
    "#### Declare prefixes and create graph"
   ]
  },
  {
   "cell_type": "code",
   "execution_count": 4,
   "id": "9aa0d60f",
   "metadata": {},
   "outputs": [],
   "source": [
    "# Create namespaces\n",
    "slb=Namespace(\"http://sloanelab.org/\");\n",
    "ecrm=Namespace(\"http://erlangen-crm.org/current/\");\n",
    "crmdig=Namespace(\"http://www.ics.forth.gr/isl/CRMdig/\");\n",
    "\n",
    "# Create graph\n",
    "graph = rdflib.Graph()\n",
    "\n",
    "# Bind prefixes\n",
    "graph.bind(\"slb\", slb)\n",
    "graph.bind(\"ecrm\", ecrm)\n",
    "graph.bind(\"crmdig\", crmdig)"
   ]
  },
  {
   "cell_type": "markdown",
   "id": "37601d3a",
   "metadata": {},
   "source": [
    "#### Add catalogue"
   ]
  },
  {
   "cell_type": "code",
   "execution_count": 6,
   "id": "e3397be6",
   "metadata": {},
   "outputs": [
    {
     "data": {
      "text/plain": [
       "<Graph identifier=N32ce111042214f02bf6c56079d4b43a8 (<class 'rdflib.graph.Graph'>)>"
      ]
     },
     "execution_count": 6,
     "metadata": {},
     "output_type": "execute_result"
    }
   ],
   "source": [
    "# Dataset\n",
    "jsonIRI = slb[f'D1/nhm_dataset'];\n",
    "graph.add((jsonIRI, RDF.type, crmdig.D1_Digital_Object))\n",
    "graph.add((jsonIRI, ecrm.P2_has_type, slb['E55/museum_dataset']))\n",
    "graph.add((jsonIRI, RDFS.label, Literal('NHM Dataset')))\n",
    "\n",
    "# Record\n",
    "recordIRI = slb[f'E73/nhm_dataset/PV_P_73123'];\n",
    "graph.add((recordIRI, RDF.type, ecrm.E73_Information_Object))\n",
    "graph.add((recordIRI, ecrm.P2_has_type, slb['E55/museum_record']))\n",
    "graph.add((recordIRI, RDFS.label, Literal('NHM PV P 73123')))\n",
    "\n",
    "graph.add((recordIRI, ecrm.P67_refers_to, slb[f'E53/{\"Malta\"}']))\n",
    "\n",
    "objIRI = slb[f'E19/nhm_dataset/PV_P_73123'];\n",
    "graph.add((objIRI, RDF.type, ecrm.E19_Physical_Object))\n",
    "graph.add((recordIRI, ecrm.P129_is_about, objIRI))\n",
    "\n",
    "graph.add((objIRI, OWL.sameAs, slb[f'E19/fishes/172']))"
   ]
  },
  {
   "cell_type": "code",
   "execution_count": 7,
   "id": "3284730f",
   "metadata": {},
   "outputs": [
    {
     "name": "stdout",
     "output_type": "stream",
     "text": [
      "10\n"
     ]
    }
   ],
   "source": [
    "print(len(graph))"
   ]
  },
  {
   "cell_type": "code",
   "execution_count": 9,
   "id": "0440e235",
   "metadata": {},
   "outputs": [],
   "source": [
    "graph.serialize(destination='/Users/danielemetilli/Downloads/nhm-shark-tooth.ttl', format=\"turtle\");"
   ]
  },
  {
   "cell_type": "code",
   "execution_count": null,
   "id": "3de28c14",
   "metadata": {},
   "outputs": [],
   "source": []
  }
 ],
 "metadata": {
  "kernelspec": {
   "display_name": "Python 3 (ipykernel)",
   "language": "python",
   "name": "python3"
  },
  "language_info": {
   "codemirror_mode": {
    "name": "ipython",
    "version": 3
   },
   "file_extension": ".py",
   "mimetype": "text/x-python",
   "name": "python",
   "nbconvert_exporter": "python",
   "pygments_lexer": "ipython3",
   "version": "3.9.13"
  }
 },
 "nbformat": 4,
 "nbformat_minor": 5
}
